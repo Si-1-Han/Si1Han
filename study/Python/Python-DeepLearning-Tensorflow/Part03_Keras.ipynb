{
  "nbformat": 4,
  "nbformat_minor": 0,
  "metadata": {
    "colab": {
      "provenance": []
    },
    "kernelspec": {
      "name": "python3",
      "display_name": "Python 3"
    },
    "language_info": {
      "name": "python"
    }
  },
  "cells": [
    {
      "cell_type": "markdown",
      "source": [
        "# 1-1-5 **경사하강법(gradient descent)**"
      ],
      "metadata": {
        "id": "wCHPWpGpzdJw"
      }
    },
    {
      "cell_type": "code",
      "execution_count": null,
      "metadata": {
        "id": "ARZsS4JVRHAp"
      },
      "outputs": [],
      "source": [
        "import numpy as np\n",
        "import matplotlib.pyplot as plt\n",
        "\n",
        "# 샘플에 활용할 데이터셋 만들기\n",
        "def make_linear(w=0.5, b=0.8, size=50, noise=1.0):\n",
        "  x = np.random.rand(size)\n",
        "  y = w * x + b\n",
        "  noise = np.random.uniform(-abs(noise), abs(noise), size=y.shape)\n",
        "  yy = y + noise\n",
        "  plt.figure(figsize=(10, 7))\n",
        "  plt.plot(x, y, color='r', label=f'y={w}*x+{b}')\n",
        "  plt.scatter(x,yy,label='data')\n",
        "  plt.legend(fontsize=20)\n",
        "  plt.show()\n",
        "  print(f'w: {w}, b: {b}')\n",
        "  return x, yy\n",
        "\n",
        "  x, y = make_linear(w=0.3, b=0.5, size=100, noise=0.01)\n",
        "  print(x, y)"
      ]
    }
  ]
}