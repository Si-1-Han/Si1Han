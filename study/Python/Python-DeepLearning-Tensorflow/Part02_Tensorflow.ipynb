{
  "nbformat": 4,
  "nbformat_minor": 0,
  "metadata": {
    "colab": {
      "provenance": []
    },
    "kernelspec": {
      "name": "python3",
      "display_name": "Python 3"
    },
    "language_info": {
      "name": "python"
    }
  },
  "cells": [
    {
      "cell_type": "code",
      "execution_count": 1,
      "metadata": {
        "colab": {
          "base_uri": "https://localhost:8080/"
        },
        "id": "zeBEvIe2XxvZ",
        "outputId": "148d0416-50b4-44db-aba7-82ecc6a9d2c3"
      },
      "outputs": [
        {
          "output_type": "stream",
          "name": "stdout",
          "text": [
            "True\n"
          ]
        }
      ],
      "source": [
        "import tensorflow as tf\n",
        "print(tf.executing_eagerly())"
      ]
    },
    {
      "cell_type": "code",
      "source": [
        "a = 1\n",
        "b = 2\n",
        "c = tf.math.add(a, b)\n",
        "print(c)"
      ],
      "metadata": {
        "colab": {
          "base_uri": "https://localhost:8080/"
        },
        "id": "CALM-NJdYEow",
        "outputId": "471a881d-c0ac-4b30-ad7d-4731d11626e3"
      },
      "execution_count": 2,
      "outputs": [
        {
          "output_type": "stream",
          "name": "stdout",
          "text": [
            "tf.Tensor(3, shape=(), dtype=int32)\n"
          ]
        }
      ]
    },
    {
      "cell_type": "code",
      "source": [
        "c.numpy()"
      ],
      "metadata": {
        "colab": {
          "base_uri": "https://localhost:8080/"
        },
        "id": "m_1KSquKYORv",
        "outputId": "cd1507d0-e569-4e11-da12-8a0ad0560b67"
      },
      "execution_count": 3,
      "outputs": [
        {
          "output_type": "execute_result",
          "data": {
            "text/plain": [
              "np.int32(3)"
            ]
          },
          "metadata": {},
          "execution_count": 3
        }
      ]
    },
    {
      "cell_type": "markdown",
      "source": [
        "# 3-1 **스칼라(Scalar)**"
      ],
      "metadata": {
        "id": "4mGIX1hvcU2_"
      }
    },
    {
      "cell_type": "code",
      "source": [
        "import tensorflow as tf\n",
        "\n",
        "# 스칼라 정의하기\n",
        "a = tf.constant(1)\n",
        "b = tf.constant(2)\n",
        "\n",
        "print('---------------------------------------------------')\n",
        "\n",
        "# 정수 1과 2는 0차원 텐서인 스칼라로 저장됨(shape=() : 0차원, dtype=int32 : 32비트 정수형)\n",
        "print(\"a:\", a)\n",
        "print(\"b:\", b)\n",
        "print('---------------------------------------------------')\n",
        "\n",
        "# 랭크 확인하기\n",
        "print(tf.rank(a))\n",
        "print('---------------------------------------------------')\n",
        "\n",
        "# 자료형 변환\n",
        "# 텐서플로 딥러닝 연산에서는 float32를 숫자형 데이터를 나타내는 기본 자료형으로 사용함\n",
        "a = tf.cast(a, tf.float32)\n",
        "b = tf.cast(b, tf.float32)\n",
        "print(a.dtype)\n",
        "print(b.dtype)\n",
        "print('---------------------------------------------------')\n",
        "\n",
        "# 덧셈, add()\n",
        "c = tf.math.add(a, b)\n",
        "print(\"result:\", c)\n",
        "print(\"rank:\", tf.rank(c))\n",
        "print('---------------------------------------------------')\n",
        "\n",
        "# 뺄셈, subtract()\n",
        "print(tf.math.subtract(a, b))\n",
        "print('---------------------------------------------------')\n",
        "\n",
        "# 곱셈, multiply()\n",
        "print(tf.math.multiply(a, b))\n",
        "print('---------------------------------------------------')\n",
        "\n",
        "# 나눗셈, divide()\n",
        "print(tf.math.divide(a, b))\n",
        "print('---------------------------------------------------')\n",
        "\n",
        "# 나눗셈(나머지), mod()\n",
        "print(tf.math.mod(a, b))\n",
        "print('---------------------------------------------------')\n",
        "\n",
        "# 나눗셈(몫), floordiv()\n",
        "print(tf.math.floordiv(a, b))\n",
        "print('---------------------------------------------------')"
      ],
      "metadata": {
        "colab": {
          "base_uri": "https://localhost:8080/"
        },
        "collapsed": true,
        "id": "eQx2c0DoZFeX",
        "outputId": "78df2471-dc64-4f40-878a-750ce1857efd"
      },
      "execution_count": 16,
      "outputs": [
        {
          "output_type": "stream",
          "name": "stdout",
          "text": [
            "---------------------------------------------------\n",
            "a: tf.Tensor(1, shape=(), dtype=int32)\n",
            "b: tf.Tensor(2, shape=(), dtype=int32)\n",
            "---------------------------------------------------\n",
            "tf.Tensor(0, shape=(), dtype=int32)\n",
            "---------------------------------------------------\n",
            "<dtype: 'float32'>\n",
            "<dtype: 'float32'>\n",
            "---------------------------------------------------\n",
            "result: tf.Tensor(3.0, shape=(), dtype=float32)\n",
            "rank: tf.Tensor(0, shape=(), dtype=int32)\n",
            "---------------------------------------------------\n",
            "tf.Tensor(-1.0, shape=(), dtype=float32)\n",
            "---------------------------------------------------\n",
            "tf.Tensor(2.0, shape=(), dtype=float32)\n",
            "---------------------------------------------------\n",
            "tf.Tensor(0.5, shape=(), dtype=float32)\n",
            "---------------------------------------------------\n",
            "tf.Tensor(1.0, shape=(), dtype=float32)\n",
            "---------------------------------------------------\n",
            "tf.Tensor(0.0, shape=(), dtype=float32)\n",
            "---------------------------------------------------\n"
          ]
        }
      ]
    },
    {
      "cell_type": "markdown",
      "source": [
        "# 3-2 **벡터(Vector)**"
      ],
      "metadata": {
        "id": "Mk6yc86rcQio"
      }
    },
    {
      "cell_type": "code",
      "source": [
        "import tensorflow as tf\n",
        "import numpy as np\n",
        "\n",
        "# 1차원 배열 정의\n",
        "\n",
        "# 파이썬 리스트 활용\n",
        "py_list = [10., 20., 30.]\n",
        "# 넘파이 배열 활용\n",
        "num_arr = np.array([10., 10., 10.])\n",
        "print('---------------------------------------------------')\n",
        "\n",
        "# 텐서 변환\n",
        "vec1 = tf.constant(py_list, dtype=tf.float32)\n",
        "vec2 = tf.constant(num_arr, dtype=tf.float32)\n",
        "print('---------------------------------------------------')\n",
        "\n",
        "# 텐서 출력, shap(3,) : 1개의 축에 3개의 원소\n",
        "print(\"vec1:\", vec1)\n",
        "print(\"vec2:\", vec2)\n",
        "print('---------------------------------------------------')\n",
        "\n",
        "# 랭크 확인\n",
        "print(tf.rank(vec1))\n",
        "print(tf.rank(vec2))\n",
        "print('---------------------------------------------------')\n",
        "\n",
        "# 덧셈 함수\n",
        "add1 = tf.math.add(vec1, vec2)\n",
        "print(\"result:\", add1)\n",
        "print(\"rank:\", tf.rank(add1))\n",
        "print('---------------------------------------------------')\n",
        "\n",
        "# 파이썬 덧셈 연산자\n",
        "add2 = vec1 + vec2\n",
        "print(\"result:\", add2)\n",
        "print(\"rank:\", tf.rank(add2))\n",
        "print('---------------------------------------------------')\n",
        "\n",
        "# tf.math 모듈 함수\n",
        "print(tf.math.subtract(vec1, vec2))\n",
        "print(tf.math.multiply(vec1, vec2))\n",
        "print(tf.math.divide(vec1, vec2))\n",
        "print(tf.math.mod(vec1, vec2))\n",
        "print(tf.math.floordiv(vec1, vec2))\n",
        "print('---------------------------------------------------')\n",
        "\n",
        "# 파이썬 연산자\n",
        "print(vec1 - vec2)\n",
        "print(vec1 * vec2)\n",
        "print(vec1 / vec2)\n",
        "print(vec1 % vec2)\n",
        "print(vec1 // vec2)\n",
        "print('---------------------------------------------------')\n",
        "\n",
        "# 합계 구하기\n",
        "print(tf.reduce_sum(vec1))\n",
        "print(tf.reduce_sum(vec2))\n",
        "print('---------------------------------------------------')\n",
        "\n",
        "# 거듭제곱\n",
        "print(tf.math.square(vec1))\n",
        "print('---------------------------------------------------')\n",
        "\n",
        "# 거듭제곱(파이썬 연산자)\n",
        "print(vec1**2)\n",
        "print('---------------------------------------------------')\n",
        "\n",
        "# 제곱근\n",
        "print(tf.math.sqrt(vec2))\n",
        "print('---------------------------------------------------')\n",
        "\n",
        "# 제곱근(파이썬 연산자)\n",
        "print(vec2**0.5)\n",
        "print('---------------------------------------------------')\n",
        "\n",
        "# 브로드캐스팅 연산\n",
        "print(vec1 + 1)\n",
        "print('---------------------------------------------------')"
      ],
      "metadata": {
        "colab": {
          "base_uri": "https://localhost:8080/"
        },
        "collapsed": true,
        "id": "zJ2E0AwncM2K",
        "outputId": "0091b209-0322-42d6-d84d-a68a2ec10ed7"
      },
      "execution_count": 26,
      "outputs": [
        {
          "output_type": "stream",
          "name": "stdout",
          "text": [
            "---------------------------------------------------\n",
            "---------------------------------------------------\n",
            "vec1: tf.Tensor([10. 20. 30.], shape=(3,), dtype=float32)\n",
            "vec2: tf.Tensor([10. 10. 10.], shape=(3,), dtype=float32)\n",
            "---------------------------------------------------\n",
            "tf.Tensor(1, shape=(), dtype=int32)\n",
            "tf.Tensor(1, shape=(), dtype=int32)\n",
            "---------------------------------------------------\n",
            "result: tf.Tensor([20. 30. 40.], shape=(3,), dtype=float32)\n",
            "rank: tf.Tensor(1, shape=(), dtype=int32)\n",
            "---------------------------------------------------\n",
            "result: tf.Tensor([20. 30. 40.], shape=(3,), dtype=float32)\n",
            "rank: tf.Tensor(1, shape=(), dtype=int32)\n",
            "---------------------------------------------------\n",
            "tf.Tensor([ 0. 10. 20.], shape=(3,), dtype=float32)\n",
            "tf.Tensor([100. 200. 300.], shape=(3,), dtype=float32)\n",
            "tf.Tensor([1. 2. 3.], shape=(3,), dtype=float32)\n",
            "tf.Tensor([0. 0. 0.], shape=(3,), dtype=float32)\n",
            "tf.Tensor([1. 2. 3.], shape=(3,), dtype=float32)\n",
            "---------------------------------------------------\n",
            "tf.Tensor([ 0. 10. 20.], shape=(3,), dtype=float32)\n",
            "tf.Tensor([100. 200. 300.], shape=(3,), dtype=float32)\n",
            "tf.Tensor([1. 2. 3.], shape=(3,), dtype=float32)\n",
            "tf.Tensor([0. 0. 0.], shape=(3,), dtype=float32)\n",
            "tf.Tensor([1. 2. 3.], shape=(3,), dtype=float32)\n",
            "---------------------------------------------------\n",
            "tf.Tensor(60.0, shape=(), dtype=float32)\n",
            "tf.Tensor(30.0, shape=(), dtype=float32)\n",
            "---------------------------------------------------\n",
            "tf.Tensor([100. 400. 900.], shape=(3,), dtype=float32)\n",
            "---------------------------------------------------\n",
            "tf.Tensor([100. 400. 900.], shape=(3,), dtype=float32)\n",
            "---------------------------------------------------\n",
            "tf.Tensor([3.1622777 3.1622777 3.1622777], shape=(3,), dtype=float32)\n",
            "---------------------------------------------------\n",
            "tf.Tensor([3.1622777 3.1622777 3.1622777], shape=(3,), dtype=float32)\n",
            "---------------------------------------------------\n",
            "tf.Tensor([11. 21. 31.], shape=(3,), dtype=float32)\n",
            "---------------------------------------------------\n",
            "---------------------------------------------------\n",
            "---------------------------------------------------\n"
          ]
        }
      ]
    },
    {
      "cell_type": "markdown",
      "source": [
        "# 3-3 **행렬(Matrix)**"
      ],
      "metadata": {
        "id": "33qmOXa-hDfU"
      }
    },
    {
      "cell_type": "code",
      "source": [
        "# 라이브러리 불러오기\n",
        "import tensorflow as tf\n",
        "\n",
        "# 2차원 배열 정의\n",
        "list_of_list = [[10,20],[30,40]]\n",
        "\n",
        "# 텐서 변환 - constant 함수에 2차원 배열 입력\n",
        "mat1 = tf.constant(list_of_list)\n",
        "\n",
        "# 랭크 확인\n",
        "print(\"rank:\", tf.rank(mat1))\n",
        "print('---------------------------------------------------')\n",
        "\n",
        "# 1차원 벡터 정의\n",
        "vec1 = tf.constant([1, 0])\n",
        "vec2 = tf.constant([-1, 2])\n",
        "\n",
        "# 텐서 변환 - stack 함수로 1차원 배열을 위아래로 쌓기\n",
        "mat2 = tf.stack([vec1,vec2])\n",
        "\n",
        "# 랭크 확인\n",
        "print(\"rank:\", tf.rank(mat2))\n",
        "\n",
        "# 텐서 출력하기\n",
        "print(\"mat2:\", mat2)\n",
        "print('---------------------------------------------------')\n",
        "\n",
        "# element-by-element 연산\n",
        "element_mul = tf.math.multiply(mat1, mat2)\n",
        "print(\"result:\", element_mul)\n",
        "print(\"rank:\", tf.rank(element_mul))\n",
        "\n",
        "# 브로드캐스팅 연산\n",
        "element_bc = tf.math.multiply(mat1, 3)\n",
        "print(\"result:\", element_bc)\n",
        "print(\"rank:\", tf.rank(element_bc))\n",
        "\n",
        "# 행렬곱 연산\n",
        "mat_mul = tf.matmul(mat1, mat2)\n",
        "print(\"result:\", mat_mul)\n",
        "print(\"rank:\", tf.rank(mat_mul))\n",
        "\n",
        "# 덧셈 연산\n",
        "add1 = tf.math.add(mat1, mat2)\n",
        "print(\"result:\", add1)\n",
        "print(\"rank:\", tf.rank(add1))\n",
        "\n",
        "# 덧셈 연산자\n",
        "add2 = mat1 + mat2\n",
        "print(\"result:\", add2)\n",
        "print(\"rank:\", tf.rank(add2))\n",
        "\n",
        "# 텐서를 넘파이로 변환\n",
        "np_arr = mat_mul.numpy()\n",
        "print(type(np_arr))\n",
        "print(np_arr)"
      ],
      "metadata": {
        "colab": {
          "base_uri": "https://localhost:8080/"
        },
        "collapsed": true,
        "id": "9fzDqL1_hHZa",
        "outputId": "c6483823-4583-4ef6-eb07-3ff62ceab6dc"
      },
      "execution_count": 37,
      "outputs": [
        {
          "output_type": "stream",
          "name": "stdout",
          "text": [
            "rank: tf.Tensor(2, shape=(), dtype=int32)\n",
            "---------------------------------------------------\n",
            "rank: tf.Tensor(2, shape=(), dtype=int32)\n",
            "mat2: tf.Tensor(\n",
            "[[ 1  0]\n",
            " [-1  2]], shape=(2, 2), dtype=int32)\n",
            "---------------------------------------------------\n",
            "result: tf.Tensor(\n",
            "[[ 10   0]\n",
            " [-30  80]], shape=(2, 2), dtype=int32)\n",
            "rank: tf.Tensor(2, shape=(), dtype=int32)\n",
            "result: tf.Tensor(\n",
            "[[ 30  60]\n",
            " [ 90 120]], shape=(2, 2), dtype=int32)\n",
            "rank: tf.Tensor(2, shape=(), dtype=int32)\n",
            "result: tf.Tensor(\n",
            "[[-10  40]\n",
            " [-10  80]], shape=(2, 2), dtype=int32)\n",
            "rank: tf.Tensor(2, shape=(), dtype=int32)\n",
            "result: tf.Tensor(\n",
            "[[11 20]\n",
            " [29 42]], shape=(2, 2), dtype=int32)\n",
            "rank: tf.Tensor(2, shape=(), dtype=int32)\n",
            "result: tf.Tensor(\n",
            "[[11 20]\n",
            " [29 42]], shape=(2, 2), dtype=int32)\n",
            "rank: tf.Tensor(2, shape=(), dtype=int32)\n",
            "<class 'numpy.ndarray'>\n",
            "[[-10  40]\n",
            " [-10  80]]\n",
            "---------------------------------------------------\n",
            "---------------------------------------------------\n",
            "---------------------------------------------------\n",
            "---------------------------------------------------\n"
          ]
        }
      ]
    },
    {
      "cell_type": "markdown",
      "source": [
        "# 3-4 **고차원 텐서(Tensor)**"
      ],
      "metadata": {
        "id": "1Y6mA3sGlkuE"
      }
    },
    {
      "cell_type": "code",
      "source": [
        "# 라이브러리 불러오기\n",
        "import tensorflow as tf\n",
        "import numpy as np\n",
        "\n",
        "# 2차원 배열 정의\n",
        "mat1 = [[1,2,3,4],\n",
        "        [5,6,7,8]]\n",
        "\n",
        "mat2 = [[9,10,11,12],\n",
        "        [13,14,15,16]]\n",
        "\n",
        "mat3 = [[17,18,19,20],\n",
        "        [21,22,23,24]]\n",
        "\n",
        "\n",
        "# 텐서 변환 - constant 함수에 3차원 배열 입력\n",
        "tensor1 = tf.constant([mat1,mat2,mat3])\n",
        "\n",
        "# 랭크 확인\n",
        "print(\"rank:\", tf.rank(tensor1))\n",
        "\n",
        "# 텐서 출력\n",
        "print(\"tensor1:\", tensor1)\n",
        "\n",
        "# 텐서 변환\n",
        "tensor2 = tf.stack([mat1,mat2,mat3])\n",
        "\n",
        "# 랭크 확인\n",
        "print(\"rank:\", tf.rank(tensor2))\n",
        "\n",
        "# 텐서 출력\n",
        "print(\"tensor2:\", tensor2)\n",
        "print('---------------------------------------------------')\n",
        "\n",
        "# 1차원 배열 정의\n",
        "vec1 = [1,2,3,4]\n",
        "vec2 = [5,6,7,8]\n",
        "vec3 = [9,10,11,12]\n",
        "vec4 = [13,14,15,16]\n",
        "vec5 = [17,18,19,20]\n",
        "vec6 = [21,22,23,24]\n",
        "\n",
        "# 1차원 배열을 원소로 갖는 2차원 배열 정의\n",
        "arr = [[vec1,vec2],\n",
        "       [vec3,vec4],\n",
        "       [vec5,vec6]]\n",
        "\n",
        "# 텐서 변환\n",
        "tensor3 = tf.constant(arr)\n",
        "\n",
        "# 랭크 확인\n",
        "print(\"rank:\", tf.rank(tensor3))\n",
        "\n",
        "# 텐서 출력\n",
        "print(\"tensor3:\", tensor3)\n",
        "print('---------------------------------------------------')\n",
        "\n",
        "# 랭크-4 텐서 만들기\n",
        "tensor4 = tf.stack([tensor1,tensor2])\n",
        "\n",
        "# 랭크 확인\n",
        "print(\"rank:\", tf.rank(tensor4))\n",
        "\n",
        "# 텐서 출력\n",
        "print(\"tensor4:\", tensor4)"
      ],
      "metadata": {
        "colab": {
          "base_uri": "https://localhost:8080/"
        },
        "collapsed": true,
        "id": "zThmlfLTlnyn",
        "outputId": "0fa5b8bd-44c3-48d8-ce99-853d1d0bdbd1"
      },
      "execution_count": 41,
      "outputs": [
        {
          "output_type": "stream",
          "name": "stdout",
          "text": [
            "rank: tf.Tensor(3, shape=(), dtype=int32)\n",
            "tensor1: tf.Tensor(\n",
            "[[[ 1  2  3  4]\n",
            "  [ 5  6  7  8]]\n",
            "\n",
            " [[ 9 10 11 12]\n",
            "  [13 14 15 16]]\n",
            "\n",
            " [[17 18 19 20]\n",
            "  [21 22 23 24]]], shape=(3, 2, 4), dtype=int32)\n",
            "rank: tf.Tensor(3, shape=(), dtype=int32)\n",
            "tensor2: tf.Tensor(\n",
            "[[[ 1  2  3  4]\n",
            "  [ 5  6  7  8]]\n",
            "\n",
            " [[ 9 10 11 12]\n",
            "  [13 14 15 16]]\n",
            "\n",
            " [[17 18 19 20]\n",
            "  [21 22 23 24]]], shape=(3, 2, 4), dtype=int32)\n",
            "---------------------------------------------------\n",
            "rank: tf.Tensor(3, shape=(), dtype=int32)\n",
            "tensor3: tf.Tensor(\n",
            "[[[ 1  2  3  4]\n",
            "  [ 5  6  7  8]]\n",
            "\n",
            " [[ 9 10 11 12]\n",
            "  [13 14 15 16]]\n",
            "\n",
            " [[17 18 19 20]\n",
            "  [21 22 23 24]]], shape=(3, 2, 4), dtype=int32)\n",
            "---------------------------------------------------\n",
            "rank: tf.Tensor(4, shape=(), dtype=int32)\n",
            "tensor4: tf.Tensor(\n",
            "[[[[ 1  2  3  4]\n",
            "   [ 5  6  7  8]]\n",
            "\n",
            "  [[ 9 10 11 12]\n",
            "   [13 14 15 16]]\n",
            "\n",
            "  [[17 18 19 20]\n",
            "   [21 22 23 24]]]\n",
            "\n",
            "\n",
            " [[[ 1  2  3  4]\n",
            "   [ 5  6  7  8]]\n",
            "\n",
            "  [[ 9 10 11 12]\n",
            "   [13 14 15 16]]\n",
            "\n",
            "  [[17 18 19 20]\n",
            "   [21 22 23 24]]]], shape=(2, 3, 2, 4), dtype=int32)\n"
          ]
        }
      ]
    },
    {
      "cell_type": "markdown",
      "source": [
        "# 04 **인덱싱(Indexing)**"
      ],
      "metadata": {
        "id": "3dnQRcHvqjif"
      }
    },
    {
      "cell_type": "code",
      "source": [
        "# 텐서플로 불러오기\n",
        "import tensorflow as tf\n",
        "\n",
        "# 벡터 정의\n",
        "vec = tf.constant([10,20,30,40,50])\n",
        "print(vec)\n",
        "print(vec[0])\n",
        "print(vec[-1])\n",
        "print(vec[:3])\n",
        "print('---------------------------------------------------')\n",
        "\n",
        "# 행렬 정의\n",
        "mat = tf.constant([[10,20,30],\n",
        "                  [40,50,60]])\n",
        "print(mat)\n",
        "print(mat[0,:])\n",
        "print(mat[:,1])\n",
        "print(mat[:,:])\n",
        "print('---------------------------------------------------')\n",
        "\n",
        "# 랭크-3 텐서 정의\n",
        "tensor = tf.constant([\n",
        "    [[10,20,30],\n",
        "     [40,50,60]],\n",
        "     [[-10,-20,-30],\n",
        "     [-40,-50,-60]],\n",
        "    ])\n",
        "print(tensor)\n",
        "print(tensor[0,:,:])\n",
        "print(tensor[:,:2,:2])"
      ],
      "metadata": {
        "colab": {
          "base_uri": "https://localhost:8080/"
        },
        "collapsed": true,
        "id": "LG2Koee9pqz5",
        "outputId": "74acbb7e-1fc2-4285-8462-6d682aaf8613"
      },
      "execution_count": 52,
      "outputs": [
        {
          "output_type": "stream",
          "name": "stdout",
          "text": [
            "tf.Tensor([10 20 30 40 50], shape=(5,), dtype=int32)\n",
            "tf.Tensor(10, shape=(), dtype=int32)\n",
            "tf.Tensor(50, shape=(), dtype=int32)\n",
            "tf.Tensor([10 20 30], shape=(3,), dtype=int32)\n",
            "tf.Tensor(\n",
            "[[10 20 30]\n",
            " [40 50 60]], shape=(2, 3), dtype=int32)\n",
            "tf.Tensor([10 20 30], shape=(3,), dtype=int32)\n",
            "tf.Tensor([20 50], shape=(2,), dtype=int32)\n",
            "tf.Tensor(\n",
            "[[10 20 30]\n",
            " [40 50 60]], shape=(2, 3), dtype=int32)\n",
            "tf.Tensor(\n",
            "[[[ 10  20  30]\n",
            "  [ 40  50  60]]\n",
            "\n",
            " [[-10 -20 -30]\n",
            "  [-40 -50 -60]]], shape=(2, 2, 3), dtype=int32)\n",
            "tf.Tensor(\n",
            "[[10 20 30]\n",
            " [40 50 60]], shape=(2, 3), dtype=int32)\n"
          ]
        }
      ]
    },
    {
      "cell_type": "markdown",
      "source": [
        "# 05 **형태 변환(tf.reshape())**"
      ],
      "metadata": {
        "id": "y17vd83kwTU3"
      }
    },
    {
      "cell_type": "code",
      "source": [
        "# 텐서플로 불러오기\n",
        "import tensorflow as tf\n",
        "\n",
        "# 랭크-1 텐서 정의\n",
        "tensor = tf.constant(range(0,24))\n",
        "print(tensor)\n",
        "print('---------------------------------------------------')\n",
        "\n",
        "# (3, 8) 형태의 행렬로 변환\n",
        "tensor1 = tf.reshape(tensor,[3, 8])\n",
        "print(tensor1)\n",
        "print('---------------------------------------------------')\n",
        "\n",
        "# (3, 8) 형태의 행렬을 (6, 4) 구조의 행렬(tensor2)로 변환\n",
        "# [-1,4] : [상관없음,4열] 이므로 24개의 원소를 행렬로 변환 시 자동으로 [6,4]로 변환됨\n",
        "tensor2 = tf.reshape(tensor1, [-1,4])\n",
        "print(tensor2)\n",
        "print('---------------------------------------------------')\n",
        "\n",
        "# (6,4) 형태의 행렬을 (24,) 형태의 1차원 벡터(tensor3)로 변환\n",
        "tensor3 = tf.reshape(tensor2, [-1])\n",
        "print(tensor3)\n",
        "print('---------------------------------------------------')\n",
        "\n",
        "# (24,) 형태의 1차원 벡터(tensor3)를 (2,3,4) 형태의 랭크-3 텐서(tensor4)로 변환 (-1 사용)\n",
        "tensor4 = tf.reshape(tensor3, [-1,3,4])\n",
        "print(tensor4)\n",
        "print('---------------------------------------------------')\n",
        "\n",
        "# (2,3,4) 형태의 랭크-3 텐서(tensor4)를 (3,2,4) 형태의 랭크-3 텐서(tensor5)로 변환\n",
        "tensor5 = tf.reshape(tensor4, [3,2,4])\n",
        "print(tensor5)\n",
        "print('---------------------------------------------------')\n",
        "\n",
        "# (3,2,4) 형태의 랭크-3 텐서(tensor5)를 (3,2,2,2) 형태의 랭크-4 텐서(tensor6)로 변환\n",
        "tensor6 = tf.reshape(tensor5, [3,2,2,2])\n",
        "print(tensor6)"
      ],
      "metadata": {
        "colab": {
          "base_uri": "https://localhost:8080/"
        },
        "collapsed": true,
        "id": "1YXxJaNrwZi5",
        "outputId": "82368bd3-39a5-4362-a9e7-a62312c1dc47"
      },
      "execution_count": 59,
      "outputs": [
        {
          "output_type": "stream",
          "name": "stdout",
          "text": [
            "tf.Tensor([ 0  1  2  3  4  5  6  7  8  9 10 11 12 13 14 15 16 17 18 19 20 21 22 23], shape=(24,), dtype=int32)\n",
            "tf.Tensor(\n",
            "[[ 0  1  2  3  4  5  6  7]\n",
            " [ 8  9 10 11 12 13 14 15]\n",
            " [16 17 18 19 20 21 22 23]], shape=(3, 8), dtype=int32)\n",
            "tf.Tensor(\n",
            "[[ 0  1  2  3]\n",
            " [ 4  5  6  7]\n",
            " [ 8  9 10 11]\n",
            " [12 13 14 15]\n",
            " [16 17 18 19]\n",
            " [20 21 22 23]], shape=(6, 4), dtype=int32)\n",
            "tf.Tensor([ 0  1  2  3  4  5  6  7  8  9 10 11 12 13 14 15 16 17 18 19 20 21 22 23], shape=(24,), dtype=int32)\n",
            "---------------------------------------------------\n",
            "tf.Tensor(\n",
            "[[[ 0  1  2  3]\n",
            "  [ 4  5  6  7]\n",
            "  [ 8  9 10 11]]\n",
            "\n",
            " [[12 13 14 15]\n",
            "  [16 17 18 19]\n",
            "  [20 21 22 23]]], shape=(2, 3, 4), dtype=int32)\n",
            "---------------------------------------------------\n",
            "tf.Tensor(\n",
            "[[[ 0  1  2  3]\n",
            "  [ 4  5  6  7]]\n",
            "\n",
            " [[ 8  9 10 11]\n",
            "  [12 13 14 15]]\n",
            "\n",
            " [[16 17 18 19]\n",
            "  [20 21 22 23]]], shape=(3, 2, 4), dtype=int32)\n",
            "---------------------------------------------------\n",
            "tf.Tensor(\n",
            "[[[[ 0  1]\n",
            "   [ 2  3]]\n",
            "\n",
            "  [[ 4  5]\n",
            "   [ 6  7]]]\n",
            "\n",
            "\n",
            " [[[ 8  9]\n",
            "   [10 11]]\n",
            "\n",
            "  [[12 13]\n",
            "   [14 15]]]\n",
            "\n",
            "\n",
            " [[[16 17]\n",
            "   [18 19]]\n",
            "\n",
            "  [[20 21]\n",
            "   [22 23]]]], shape=(3, 2, 2, 2), dtype=int32)\n"
          ]
        }
      ]
    },
    {
      "cell_type": "markdown",
      "source": [
        "# 06 **변수(tf.Variable)**"
      ],
      "metadata": {
        "id": "WeCrz97_zQbd"
      }
    },
    {
      "cell_type": "code",
      "source": [
        "# 텐서플로 불러오기\n",
        "import tensorflow as tf\n",
        "\n",
        "# 텐서 정의\n",
        "tensor1 = tf.constant([[0,1,2],\n",
        "                      [3,4,5]])\n",
        "print(tensor1)\n",
        "print('---------------------------------------------------')\n",
        "\n",
        "# 텐서를 Variable 함수에 입력하면 텐서플로 변수가 생성\n",
        "tensor_var1 = tf.Variable(tensor1)\n",
        "print(tensor_var1)\n",
        "print('---------------------------------------------------')\n",
        "\n",
        "# 텐서플로 변수의 속성 값\n",
        "print(\"이름:\", tensor_var1.name)\n",
        "print(\"크기:\", tensor_var1.shape)\n",
        "print(\"자료형:\", tensor_var1.dtype)\n",
        "print(\"배열:\", tensor_var1.numpy())\n",
        "print('---------------------------------------------------')\n",
        "\n",
        "# assign() 메소드로 텐서플로 변수에 데이터 할당\n",
        "tensor_var1.assign([[1,1,1],\n",
        "                    [2,2,2]])\n",
        "print(tensor_var1)\n",
        "print('---------------------------------------------------')\n",
        "\n",
        "# convert_to_tensor() 함수로 텐서플로 변수를 텐서로 변환(이후 상수화)\n",
        "tensor2 = tf.convert_to_tensor(tensor_var1)\n",
        "print(tensor2)\n",
        "print('---------------------------------------------------')\n",
        "\n",
        "# 텐서플로 변수는 name 속성을 가지므로 원하는 이름을 지정가능.\n",
        "# 출력 결과가 New Name:0 인 이유는 해당 텐서가 연산의 첫 번째 출력값이기 때문임\n",
        "tensor_var2 = tf.Variable(tensor2, name='New Name')\n",
        "print(tensor_var2.name)\n",
        "print('---------------------------------------------------')\n",
        "\n",
        "# 텐서플로 변수도 텐서 연산과 동일하게 연산자 또는 함수를 사용하여 연산을 처리 가능\n",
        "# 이때 텐서플로 변수가 저장하고 있는 텐서 값을 사용\n",
        "tensor_var1 + tensor_var2"
      ],
      "metadata": {
        "colab": {
          "base_uri": "https://localhost:8080/"
        },
        "collapsed": true,
        "id": "K2xZqXmHwmIE",
        "outputId": "e3e1b285-22d7-4ac5-9619-2ff6689a5bd3"
      },
      "execution_count": 69,
      "outputs": [
        {
          "output_type": "stream",
          "name": "stdout",
          "text": [
            "tf.Tensor(\n",
            "[[0 1 2]\n",
            " [3 4 5]], shape=(2, 3), dtype=int32)\n",
            "---------------------------------------------------\n",
            "<tf.Variable 'Variable:0' shape=(2, 3) dtype=int32, numpy=\n",
            "array([[0, 1, 2],\n",
            "       [3, 4, 5]], dtype=int32)>\n",
            "---------------------------------------------------\n",
            "이름: Variable:0\n",
            "크기: (2, 3)\n",
            "자료형: <dtype: 'int32'>\n",
            "배열: [[0 1 2]\n",
            " [3 4 5]]\n",
            "---------------------------------------------------\n",
            "<tf.Variable 'Variable:0' shape=(2, 3) dtype=int32, numpy=\n",
            "array([[1, 1, 1],\n",
            "       [2, 2, 2]], dtype=int32)>\n",
            "---------------------------------------------------\n",
            "tf.Tensor(\n",
            "[[1 1 1]\n",
            " [2 2 2]], shape=(2, 3), dtype=int32)\n",
            "---------------------------------------------------\n",
            "New Name:0\n",
            "---------------------------------------------------\n"
          ]
        },
        {
          "output_type": "execute_result",
          "data": {
            "text/plain": [
              "<tf.Tensor: shape=(2, 3), dtype=int32, numpy=\n",
              "array([[2, 2, 2],\n",
              "       [4, 4, 4]], dtype=int32)>"
            ]
          },
          "metadata": {},
          "execution_count": 69
        }
      ]
    },
    {
      "cell_type": "markdown",
      "source": [
        "# 07 **자동 미분(Automatic Differentiation)**"
      ],
      "metadata": {
        "id": "J-VyruU74S8U"
      }
    },
    {
      "cell_type": "code",
      "source": [
        "# tf.random 모듈의 Generator\n",
        "# 라이브러리 불러오기\n",
        "import tensorflow as tf\n",
        "\n",
        "# y = 3x - 2 선형 관계를 갖는 데이터셋 생성\n",
        "g = tf.random.Generator.from_seed(2020)\n",
        "X = g.normal(shape=(10,))\n",
        "Y = 3 * X - 2\n",
        "\n",
        "print('X: ', X.numpy())\n",
        "print('Y: ', Y.numpy())\n",
        "print('---------------------------------------------------')\n",
        "\n",
        "# MSE(평균제곱오차, mean squared error)를 계산하는 cal_mse 손실함수를 정의\n",
        "\n",
        "# Loss 함수 정의\n",
        "def cal_mse(X,Y,a,b):\n",
        "\n",
        "  Y_pred = a * X + b\n",
        "  squared_error = (Y_pred - Y) ** 2\n",
        "  mean_squared_error = tf.reduce_mean(squared_error)\n",
        "\n",
        "  return mean_squared_error\n",
        "\n",
        "# tf.GradientTape로 자동 미분 과정을 기록\n",
        "\n",
        "a = tf.Variable(0.0)\n",
        "b = tf.Variable(0.0)\n",
        "\n",
        "EPOCHS = 200\n",
        "\n",
        "for epoch in range(1, EPOCHS + 1):\n",
        "  with tf.GradientTape() as tape:\n",
        "    mse = cal_mse(X,Y,a,b)\n",
        "\n",
        "  grad = tape.gradient(mse, {'a': a, 'b': b})\n",
        "  d_a, d_b = grad['a'], grad['b']\n",
        "\n",
        "  a.assign_sub(d_a * 0.05)\n",
        "  b.assign_sub(d_b * 0.05)\n",
        "\n",
        "  if epoch % 20 == 0:\n",
        "    print(\"EPOCH %d - MSE: %.4f - a:%.2f - b:%.2f\" %(epoch, mse, a, b))"
      ],
      "metadata": {
        "colab": {
          "base_uri": "https://localhost:8080/"
        },
        "collapsed": true,
        "id": "YfK-lFWL0l2l",
        "outputId": "5536ba7a-646e-472c-ca44-92c949866b93"
      },
      "execution_count": 79,
      "outputs": [
        {
          "output_type": "stream",
          "name": "stdout",
          "text": [
            "X:  [-0.20943771  1.2746525   1.213214   -0.17576952  1.876984    0.16379918\n",
            "  1.082245    0.6199966  -0.44402212  1.3048344 ]\n",
            "Y:  [-2.628313    1.8239574   1.6396422  -2.5273085   3.630952   -1.5086024\n",
            "  1.2467351  -0.14001012 -3.3320663   1.9145031 ]\n",
            "---------------------------------------------------\n",
            "EPOCH 20 - MSE: 1.1415 - a:1.74 - b:-0.75\n",
            "EPOCH 40 - MSE: 0.2881 - a:2.37 - b:-1.37\n",
            "EPOCH 60 - MSE: 0.0728 - a:2.69 - b:-1.68\n",
            "EPOCH 80 - MSE: 0.0184 - a:2.84 - b:-1.84\n",
            "EPOCH 100 - MSE: 0.0046 - a:2.92 - b:-1.92\n",
            "EPOCH 120 - MSE: 0.0012 - a:2.96 - b:-1.96\n",
            "EPOCH 140 - MSE: 0.0003 - a:2.98 - b:-1.98\n",
            "EPOCH 160 - MSE: 0.0001 - a:2.99 - b:-1.99\n",
            "EPOCH 180 - MSE: 0.0000 - a:2.99 - b:-1.99\n",
            "EPOCH 200 - MSE: 0.0000 - a:3.00 - b:-2.00\n"
          ]
        }
      ]
    },
    {
      "cell_type": "code",
      "source": [],
      "metadata": {
        "id": "r5QDjRRQNtB0"
      },
      "execution_count": null,
      "outputs": []
    }
  ]
}